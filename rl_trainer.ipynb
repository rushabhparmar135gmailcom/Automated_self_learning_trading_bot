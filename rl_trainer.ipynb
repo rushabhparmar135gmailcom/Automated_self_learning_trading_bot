{
  "cells": [
    {
      "cell_type": "code",
      "execution_count": null,
      "metadata": {
        "id": "_LieUBBuKmUY"
      },
      "outputs": [],
      "source": [
        "%%capture\n",
        "from google.colab import drive\n",
        "drive.flush_and_unmount()\n",
        "drive.mount('/content/drive')\n",
        "\n",
        "%cd /content/drive/MyDrive/Developer/trading/cnn_rl/src\n",
        "#%cd /content/drive/MyDrive/trading/cnn_rl/src\n",
        "\n",
        "%pip install pyts"
      ]
    },
    {
      "cell_type": "code",
      "execution_count": null,
      "metadata": {
        "colab": {
          "base_uri": "https://localhost:8080/"
        },
        "id": "oszD62W5KuZe",
        "outputId": "ed2436ee-3d73-476d-b1df-fbeec140e7b5"
      },
      "outputs": [
        {
          "name": "stdout",
          "output_type": "stream",
          "text": [
            "Initial portfolio balance: 1000000.0\n"
          ]
        },
        {
          "name": "stderr",
          "output_type": "stream",
          "text": [
            "episode: 0: 100%|██████████| 957/957 [01:32<00:00, 10.40it/s, balance=1175049, total_reward=1.18]\n"
          ]
        },
        {
          "name": "stdout",
          "output_type": "stream",
          "text": [
            "Episode: 0, epsilion: 0.9995, loss: 0.0035, reward: 73.2135, balance: 1175049, ann_rtn: 4.1152, expo: 957, greedy: 0\n"
          ]
        },
        {
          "name": "stderr",
          "output_type": "stream",
          "text": [
            "episode: 1: 100%|██████████| 957/957 [01:31<00:00, 10.41it/s, balance=1173365, total_reward=1.17]\n"
          ]
        },
        {
          "name": "stdout",
          "output_type": "stream",
          "text": [
            "Episode: 1, epsilion: 0.9990, loss: 0.0027, reward: 72.3849, balance: 1173365, ann_rtn: 4.0779, expo: 956, greedy: 1\n"
          ]
        },
        {
          "name": "stderr",
          "output_type": "stream",
          "text": [
            "episode: 2: 100%|██████████| 957/957 [01:31<00:00, 10.46it/s, balance=1172699, total_reward=1.17]\n"
          ]
        },
        {
          "name": "stdout",
          "output_type": "stream",
          "text": [
            "Episode: 2, epsilion: 0.9985, loss: 0.0030, reward: 71.3472, balance: 1172699, ann_rtn: 4.0631, expo: 956, greedy: 1\n"
          ]
        },
        {
          "name": "stderr",
          "output_type": "stream",
          "text": [
            "episode: 3: 100%|██████████| 957/957 [01:33<00:00, 10.27it/s, balance=1184313, total_reward=1.18]\n"
          ]
        },
        {
          "name": "stdout",
          "output_type": "stream",
          "text": [
            "Episode: 3, epsilion: 0.9980, loss: 0.0027, reward: 77.2911, balance: 1184313, ann_rtn: 4.3198, expo: 957, greedy: 0\n"
          ]
        },
        {
          "name": "stderr",
          "output_type": "stream",
          "text": [
            "episode: 4: 100%|██████████| 957/957 [01:32<00:00, 10.31it/s, balance=1179537, total_reward=1.18]\n"
          ]
        },
        {
          "name": "stdout",
          "output_type": "stream",
          "text": [
            "Episode: 4, epsilion: 0.9975, loss: 0.0034, reward: 74.5796, balance: 1179537, ann_rtn: 4.2145, expo: 955, greedy: 2\n"
          ]
        },
        {
          "name": "stderr",
          "output_type": "stream",
          "text": [
            "episode: 5: 100%|██████████| 957/957 [01:33<00:00, 10.26it/s, balance=1174553, total_reward=1.17]\n"
          ]
        },
        {
          "name": "stdout",
          "output_type": "stream",
          "text": [
            "Episode: 5, epsilion: 0.9970, loss: 0.0032, reward: 74.0292, balance: 1174553, ann_rtn: 4.1042, expo: 953, greedy: 4\n"
          ]
        },
        {
          "name": "stderr",
          "output_type": "stream",
          "text": [
            "episode: 6: 100%|██████████| 957/957 [01:32<00:00, 10.32it/s, balance=1177445, total_reward=1.18]\n"
          ]
        },
        {
          "name": "stdout",
          "output_type": "stream",
          "text": [
            "Episode: 6, epsilion: 0.9965, loss: 0.0031, reward: 74.3443, balance: 1177445, ann_rtn: 4.1682, expo: 955, greedy: 2\n"
          ]
        },
        {
          "name": "stderr",
          "output_type": "stream",
          "text": [
            "episode: 7: 100%|██████████| 957/957 [01:32<00:00, 10.33it/s, balance=1179827, total_reward=1.18]\n"
          ]
        },
        {
          "name": "stdout",
          "output_type": "stream",
          "text": [
            "Episode: 7, epsilion: 0.9960, loss: 0.0030, reward: 74.4752, balance: 1179827, ann_rtn: 4.2209, expo: 952, greedy: 5\n"
          ]
        },
        {
          "name": "stderr",
          "output_type": "stream",
          "text": [
            "episode: 8: 100%|██████████| 957/957 [01:31<00:00, 10.43it/s, balance=1176614, total_reward=1.18]\n"
          ]
        },
        {
          "name": "stdout",
          "output_type": "stream",
          "text": [
            "Episode: 8, epsilion: 0.9955, loss: 0.0031, reward: 74.2613, balance: 1176614, ann_rtn: 4.1498, expo: 955, greedy: 2\n"
          ]
        },
        {
          "name": "stderr",
          "output_type": "stream",
          "text": [
            "episode: 9: 100%|██████████| 957/957 [01:32<00:00, 10.35it/s, balance=1176832, total_reward=1.18]\n"
          ]
        },
        {
          "name": "stdout",
          "output_type": "stream",
          "text": [
            "Episode: 9, epsilion: 0.9950, loss: 0.0026, reward: 74.7873, balance: 1176832, ann_rtn: 4.1547, expo: 954, greedy: 3\n"
          ]
        },
        {
          "name": "stderr",
          "output_type": "stream",
          "text": [
            "episode: 10: 100%|██████████| 957/957 [01:32<00:00, 10.36it/s, balance=1174718, total_reward=1.17]\n"
          ]
        },
        {
          "name": "stdout",
          "output_type": "stream",
          "text": [
            "Episode: 10, epsilion: 0.9945, loss: 0.0032, reward: 72.4104, balance: 1174718, ann_rtn: 4.1078, expo: 955, greedy: 2\n"
          ]
        },
        {
          "name": "stderr",
          "output_type": "stream",
          "text": [
            "episode: 11: 100%|██████████| 957/957 [01:32<00:00, 10.35it/s, balance=1175935, total_reward=1.18]\n"
          ]
        },
        {
          "name": "stdout",
          "output_type": "stream",
          "text": [
            "Episode: 11, epsilion: 0.9940, loss: 0.0030, reward: 74.4451, balance: 1175935, ann_rtn: 4.1348, expo: 949, greedy: 8\n"
          ]
        },
        {
          "name": "stderr",
          "output_type": "stream",
          "text": [
            "episode: 12: 100%|██████████| 957/957 [01:31<00:00, 10.47it/s, balance=1175826, total_reward=1.18]\n"
          ]
        },
        {
          "name": "stdout",
          "output_type": "stream",
          "text": [
            "Episode: 12, epsilion: 0.9935, loss: 0.0032, reward: 72.6315, balance: 1175826, ann_rtn: 4.1324, expo: 954, greedy: 3\n"
          ]
        },
        {
          "name": "stderr",
          "output_type": "stream",
          "text": [
            "episode: 13: 100%|██████████| 957/957 [01:31<00:00, 10.44it/s, balance=1178686, total_reward=1.18]\n"
          ]
        },
        {
          "name": "stdout",
          "output_type": "stream",
          "text": [
            "Episode: 13, epsilion: 0.9930, loss: 0.0034, reward: 74.7093, balance: 1178686, ann_rtn: 4.1957, expo: 955, greedy: 2\n"
          ]
        },
        {
          "name": "stderr",
          "output_type": "stream",
          "text": [
            "episode: 14: 100%|██████████| 957/957 [01:31<00:00, 10.44it/s, balance=1173219, total_reward=1.17]\n"
          ]
        },
        {
          "name": "stdout",
          "output_type": "stream",
          "text": [
            "Episode: 14, epsilion: 0.9925, loss: 0.0030, reward: 73.4692, balance: 1173219, ann_rtn: 4.0746, expo: 950, greedy: 7\n"
          ]
        },
        {
          "name": "stderr",
          "output_type": "stream",
          "text": [
            "episode: 15: 100%|██████████| 957/957 [01:32<00:00, 10.40it/s, balance=1181222, total_reward=1.18]\n"
          ]
        },
        {
          "name": "stdout",
          "output_type": "stream",
          "text": [
            "Episode: 15, epsilion: 0.9920, loss: 0.0035, reward: 74.8202, balance: 1181222, ann_rtn: 4.2517, expo: 952, greedy: 5\n"
          ]
        },
        {
          "name": "stderr",
          "output_type": "stream",
          "text": [
            "episode: 16: 100%|██████████| 957/957 [01:31<00:00, 10.43it/s, balance=1174544, total_reward=1.17]\n"
          ]
        },
        {
          "name": "stdout",
          "output_type": "stream",
          "text": [
            "Episode: 16, epsilion: 0.9915, loss: 0.0035, reward: 73.3653, balance: 1174544, ann_rtn: 4.1040, expo: 947, greedy: 10\n"
          ]
        },
        {
          "name": "stderr",
          "output_type": "stream",
          "text": [
            "episode: 17: 100%|██████████| 957/957 [01:31<00:00, 10.50it/s, balance=1180405, total_reward=1.18]\n"
          ]
        },
        {
          "name": "stdout",
          "output_type": "stream",
          "text": [
            "Episode: 17, epsilion: 0.9910, loss: 0.0034, reward: 75.1033, balance: 1180405, ann_rtn: 4.2336, expo: 950, greedy: 7\n"
          ]
        },
        {
          "name": "stderr",
          "output_type": "stream",
          "text": [
            "episode: 18: 100%|██████████| 957/957 [01:32<00:00, 10.40it/s, balance=1179181, total_reward=1.18]\n"
          ]
        },
        {
          "name": "stdout",
          "output_type": "stream",
          "text": [
            "Episode: 18, epsilion: 0.9905, loss: 0.0037, reward: 74.5501, balance: 1179181, ann_rtn: 4.2066, expo: 948, greedy: 9\n"
          ]
        },
        {
          "name": "stderr",
          "output_type": "stream",
          "text": [
            "episode: 19: 100%|██████████| 957/957 [01:31<00:00, 10.43it/s, balance=1181871, total_reward=1.18]\n"
          ]
        },
        {
          "name": "stdout",
          "output_type": "stream",
          "text": [
            "Episode: 19, epsilion: 0.9900, loss: 0.0035, reward: 75.8316, balance: 1181871, ann_rtn: 4.2660, expo: 946, greedy: 11\n"
          ]
        },
        {
          "name": "stderr",
          "output_type": "stream",
          "text": [
            "episode: 20: 100%|██████████| 957/957 [01:31<00:00, 10.49it/s, balance=1179809, total_reward=1.18]\n"
          ]
        },
        {
          "name": "stdout",
          "output_type": "stream",
          "text": [
            "Episode: 20, epsilion: 0.9896, loss: 0.0032, reward: 74.8475, balance: 1179809, ann_rtn: 4.2205, expo: 948, greedy: 9\n"
          ]
        },
        {
          "name": "stderr",
          "output_type": "stream",
          "text": [
            "episode: 21: 100%|██████████| 957/957 [01:31<00:00, 10.46it/s, balance=1178926, total_reward=1.18]\n"
          ]
        },
        {
          "name": "stdout",
          "output_type": "stream",
          "text": [
            "Episode: 21, epsilion: 0.9891, loss: 0.0033, reward: 75.0730, balance: 1178926, ann_rtn: 4.2009, expo: 944, greedy: 13\n"
          ]
        },
        {
          "name": "stderr",
          "output_type": "stream",
          "text": [
            "episode: 22: 100%|██████████| 957/957 [01:32<00:00, 10.38it/s, balance=1171202, total_reward=1.17]\n"
          ]
        },
        {
          "name": "stdout",
          "output_type": "stream",
          "text": [
            "Episode: 22, epsilion: 0.9886, loss: 0.0038, reward: 72.1984, balance: 1171202, ann_rtn: 4.0298, expo: 948, greedy: 9\n"
          ]
        },
        {
          "name": "stderr",
          "output_type": "stream",
          "text": [
            "episode: 23: 100%|██████████| 957/957 [01:31<00:00, 10.41it/s, balance=1177666, total_reward=1.18]\n"
          ]
        },
        {
          "name": "stdout",
          "output_type": "stream",
          "text": [
            "Episode: 23, epsilion: 0.9881, loss: 0.0028, reward: 73.4253, balance: 1177666, ann_rtn: 4.1731, expo: 941, greedy: 16\n"
          ]
        },
        {
          "name": "stderr",
          "output_type": "stream",
          "text": [
            "episode: 24: 100%|██████████| 957/957 [01:30<00:00, 10.54it/s, balance=1177683, total_reward=1.18]\n"
          ]
        },
        {
          "name": "stdout",
          "output_type": "stream",
          "text": [
            "Episode: 24, epsilion: 0.9876, loss: 0.0033, reward: 73.5033, balance: 1177683, ann_rtn: 4.1735, expo: 947, greedy: 10\n"
          ]
        },
        {
          "name": "stderr",
          "output_type": "stream",
          "text": [
            "episode: 25: 100%|██████████| 957/957 [01:31<00:00, 10.45it/s, balance=1177785, total_reward=1.18]\n"
          ]
        },
        {
          "name": "stdout",
          "output_type": "stream",
          "text": [
            "Episode: 25, epsilion: 0.9871, loss: 0.0030, reward: 73.9849, balance: 1177785, ann_rtn: 4.1757, expo: 946, greedy: 11\n"
          ]
        },
        {
          "name": "stderr",
          "output_type": "stream",
          "text": [
            "episode: 26: 100%|██████████| 957/957 [01:31<00:00, 10.44it/s, balance=1180378, total_reward=1.18]\n"
          ]
        },
        {
          "name": "stdout",
          "output_type": "stream",
          "text": [
            "Episode: 26, epsilion: 0.9866, loss: 0.0031, reward: 75.9745, balance: 1180378, ann_rtn: 4.2330, expo: 944, greedy: 13\n"
          ]
        },
        {
          "name": "stderr",
          "output_type": "stream",
          "text": [
            "episode: 27: 100%|██████████| 957/957 [01:31<00:00, 10.45it/s, balance=1176689, total_reward=1.18]\n"
          ]
        },
        {
          "name": "stdout",
          "output_type": "stream",
          "text": [
            "Episode: 27, epsilion: 0.9861, loss: 0.0032, reward: 73.6049, balance: 1176689, ann_rtn: 4.1515, expo: 948, greedy: 9\n"
          ]
        },
        {
          "name": "stderr",
          "output_type": "stream",
          "text": [
            "episode: 28: 100%|██████████| 957/957 [01:30<00:00, 10.59it/s, balance=1177143, total_reward=1.18]\n"
          ]
        },
        {
          "name": "stdout",
          "output_type": "stream",
          "text": [
            "Episode: 28, epsilion: 0.9856, loss: 0.0033, reward: 74.7954, balance: 1177143, ann_rtn: 4.1615, expo: 940, greedy: 17\n"
          ]
        },
        {
          "name": "stderr",
          "output_type": "stream",
          "text": [
            "episode: 29: 100%|██████████| 957/957 [01:31<00:00, 10.40it/s, balance=1175828, total_reward=1.18]\n"
          ]
        },
        {
          "name": "stdout",
          "output_type": "stream",
          "text": [
            "Episode: 29, epsilion: 0.9851, loss: 0.0035, reward: 73.9776, balance: 1175828, ann_rtn: 4.1324, expo: 945, greedy: 12\n"
          ]
        },
        {
          "name": "stderr",
          "output_type": "stream",
          "text": [
            "episode: 30: 100%|██████████| 957/957 [01:31<00:00, 10.46it/s, balance=1175883, total_reward=1.18]\n"
          ]
        },
        {
          "name": "stdout",
          "output_type": "stream",
          "text": [
            "Episode: 30, epsilion: 0.9846, loss: 0.0033, reward: 73.7614, balance: 1175883, ann_rtn: 4.1337, expo: 942, greedy: 15\n"
          ]
        },
        {
          "name": "stderr",
          "output_type": "stream",
          "text": [
            "episode: 31: 100%|██████████| 957/957 [01:32<00:00, 10.32it/s, balance=1176067, total_reward=1.18]\n"
          ]
        },
        {
          "name": "stdout",
          "output_type": "stream",
          "text": [
            "Episode: 31, epsilion: 0.9841, loss: 0.0032, reward: 73.3321, balance: 1176067, ann_rtn: 4.1377, expo: 937, greedy: 20\n"
          ]
        },
        {
          "name": "stderr",
          "output_type": "stream",
          "text": [
            "episode: 32: 100%|██████████| 957/957 [01:33<00:00, 10.26it/s, balance=1178729, total_reward=1.18]\n"
          ]
        },
        {
          "name": "stdout",
          "output_type": "stream",
          "text": [
            "Episode: 32, epsilion: 0.9836, loss: 0.0034, reward: 73.7242, balance: 1178729, ann_rtn: 4.1966, expo: 941, greedy: 16\n"
          ]
        },
        {
          "name": "stderr",
          "output_type": "stream",
          "text": [
            "episode: 33: 100%|██████████| 957/957 [01:30<00:00, 10.53it/s, balance=1176653, total_reward=1.18]\n"
          ]
        },
        {
          "name": "stdout",
          "output_type": "stream",
          "text": [
            "Episode: 33, epsilion: 0.9831, loss: 0.0032, reward: 73.5313, balance: 1176653, ann_rtn: 4.1507, expo: 935, greedy: 22\n"
          ]
        },
        {
          "name": "stderr",
          "output_type": "stream",
          "text": [
            "episode: 34: 100%|██████████| 957/957 [01:32<00:00, 10.40it/s, balance=1176820, total_reward=1.18]\n"
          ]
        },
        {
          "name": "stdout",
          "output_type": "stream",
          "text": [
            "Episode: 34, epsilion: 0.9826, loss: 0.0030, reward: 73.8046, balance: 1176820, ann_rtn: 4.1544, expo: 937, greedy: 20\n"
          ]
        },
        {
          "name": "stderr",
          "output_type": "stream",
          "text": [
            "episode: 35: 100%|██████████| 957/957 [01:32<00:00, 10.32it/s, balance=1176764, total_reward=1.18]\n"
          ]
        },
        {
          "name": "stdout",
          "output_type": "stream",
          "text": [
            "Episode: 35, epsilion: 0.9822, loss: 0.0034, reward: 74.8187, balance: 1176764, ann_rtn: 4.1532, expo: 936, greedy: 21\n"
          ]
        },
        {
          "name": "stderr",
          "output_type": "stream",
          "text": [
            "episode: 36: 100%|██████████| 957/957 [01:31<00:00, 10.50it/s, balance=1173501, total_reward=1.17]\n"
          ]
        },
        {
          "name": "stdout",
          "output_type": "stream",
          "text": [
            "Episode: 36, epsilion: 0.9817, loss: 0.0032, reward: 72.5344, balance: 1173501, ann_rtn: 4.0809, expo: 940, greedy: 17\n"
          ]
        },
        {
          "name": "stderr",
          "output_type": "stream",
          "text": [
            "episode: 37: 100%|██████████| 957/957 [01:30<00:00, 10.56it/s, balance=1173773, total_reward=1.17]\n"
          ]
        },
        {
          "name": "stdout",
          "output_type": "stream",
          "text": [
            "Episode: 37, epsilion: 0.9812, loss: 0.0033, reward: 72.8252, balance: 1173773, ann_rtn: 4.0869, expo: 940, greedy: 17\n"
          ]
        },
        {
          "name": "stderr",
          "output_type": "stream",
          "text": [
            "episode: 38: 100%|██████████| 957/957 [01:30<00:00, 10.56it/s, balance=1176749, total_reward=1.18]\n"
          ]
        },
        {
          "name": "stdout",
          "output_type": "stream",
          "text": [
            "Episode: 38, epsilion: 0.9807, loss: 0.0030, reward: 73.9316, balance: 1176749, ann_rtn: 4.1528, expo: 936, greedy: 21\n"
          ]
        },
        {
          "name": "stderr",
          "output_type": "stream",
          "text": [
            "episode: 39: 100%|██████████| 957/957 [01:29<00:00, 10.64it/s, balance=1174782, total_reward=1.17]\n"
          ]
        },
        {
          "name": "stdout",
          "output_type": "stream",
          "text": [
            "Episode: 39, epsilion: 0.9802, loss: 0.0030, reward: 72.9928, balance: 1174782, ann_rtn: 4.1093, expo: 934, greedy: 23\n"
          ]
        },
        {
          "name": "stderr",
          "output_type": "stream",
          "text": [
            "episode: 40: 100%|██████████| 957/957 [01:35<00:00, 10.04it/s, balance=1176641, total_reward=1.18]\n"
          ]
        },
        {
          "name": "stdout",
          "output_type": "stream",
          "text": [
            "Episode: 40, epsilion: 0.9797, loss: 0.0034, reward: 73.9826, balance: 1176641, ann_rtn: 4.1504, expo: 944, greedy: 13\n"
          ]
        },
        {
          "name": "stderr",
          "output_type": "stream",
          "text": [
            "episode: 41: 100%|██████████| 957/957 [01:36<00:00,  9.93it/s, balance=1179568, total_reward=1.18]\n"
          ]
        },
        {
          "name": "stdout",
          "output_type": "stream",
          "text": [
            "Episode: 41, epsilion: 0.9792, loss: 0.0035, reward: 74.2681, balance: 1179568, ann_rtn: 4.2151, expo: 939, greedy: 18\n"
          ]
        },
        {
          "name": "stderr",
          "output_type": "stream",
          "text": [
            "episode: 42: 100%|██████████| 957/957 [01:34<00:00, 10.14it/s, balance=1172963, total_reward=1.17]\n"
          ]
        },
        {
          "name": "stdout",
          "output_type": "stream",
          "text": [
            "Episode: 42, epsilion: 0.9787, loss: 0.0034, reward: 72.2418, balance: 1172963, ann_rtn: 4.0689, expo: 935, greedy: 22\n"
          ]
        },
        {
          "name": "stderr",
          "output_type": "stream",
          "text": [
            "episode: 43: 100%|██████████| 957/957 [01:31<00:00, 10.44it/s, balance=1180190, total_reward=1.18]\n"
          ]
        },
        {
          "name": "stdout",
          "output_type": "stream",
          "text": [
            "Episode: 43, epsilion: 0.9782, loss: 0.0033, reward: 75.1482, balance: 1180190, ann_rtn: 4.2289, expo: 936, greedy: 21\n"
          ]
        },
        {
          "name": "stderr",
          "output_type": "stream",
          "text": [
            "episode: 44: 100%|██████████| 957/957 [01:30<00:00, 10.63it/s, balance=1170628, total_reward=1.17]\n"
          ]
        },
        {
          "name": "stdout",
          "output_type": "stream",
          "text": [
            "Episode: 44, epsilion: 0.9777, loss: 0.0032, reward: 71.9805, balance: 1170628, ann_rtn: 4.0171, expo: 940, greedy: 17\n"
          ]
        },
        {
          "name": "stderr",
          "output_type": "stream",
          "text": [
            "episode: 45:  99%|█████████▉| 946/957 [01:31<00:01,  8.27it/s, balance=1174571, total_reward=1.17]"
          ]
        }
      ],
      "source": [
        "from helper_config import Config\n",
        "from helper_env import PortfolioEnvironment\n",
        "from helper_agent import DQLAgent\n",
        "from helper_dataset import RLDataset\n",
        "cfg = Config()\n",
        "cfg.data_dir = '../data'\n",
        "cfg.models_dir = '../models/rl'\n",
        "cfg.base_model_path = '../models/cnn_predictor/baseline/model.pth'\n",
        "target_assets = len(cfg.tickers)\n",
        "\n",
        "### RL / POLICY NETWORK CONFIGURATION\n",
        "cfg.input_dim       = len(cfg.tickers) * (4)\n",
        "cfg.output_dim      = len(cfg.tickers)\n",
        "cfg.learning_rate   = 1e-3\n",
        "cfg.gamma           = 0.99\n",
        "cfg.epsilon         = 1.0\n",
        "cfg.epsilon_decay   = 0.9995\n",
        "cfg.epsilon_min     = 0.01\n",
        "cfg.reply_capacity  = 10000\n",
        "cfg.batch_size      = 32\n",
        "cfg.hidden_size     = 128\n",
        "cfg.riskfree_rate   = 0.02\n",
        "cfg.initial_balance = 1_000_000\n",
        "\n",
        "prep = RLDataset(cfg)\n",
        "df_norm_close, df_prices, images, labels = prep.prepare(kind = 'train')\n",
        "\n",
        "# define environment\n",
        "env = PortfolioEnvironment(cfg, df_norm_close, df_prices, images, labels, window_size = 2000)\n",
        "\n",
        "# define agent\n",
        "agent = DQLAgent(cfg, name = 'baseline')\n",
        "results = agent.train(env, episodes = 20000)"
      ]
    },
    {
      "cell_type": "code",
      "execution_count": null,
      "metadata": {
        "id": "yG5bIeQSPhLm"
      },
      "outputs": [],
      "source": []
    }
  ],
  "metadata": {
    "accelerator": "GPU",
    "colab": {
      "provenance": []
    },
    "kernelspec": {
      "display_name": "Python 3",
      "name": "python3"
    },
    "language_info": {
      "name": "python"
    }
  },
  "nbformat": 4,
  "nbformat_minor": 0
}
