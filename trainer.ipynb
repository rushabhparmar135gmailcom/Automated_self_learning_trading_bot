{
  "cells": [
    {
      "cell_type": "code",
      "execution_count": null,
      "metadata": {
        "id": "pYLLxePBYT76"
      },
      "outputs": [],
      "source": [
        "%%capture\n",
        "from google.colab import drive\n",
        "drive.flush_and_unmount()\n",
        "drive.mount('/content/drive')\n",
        "\n",
        "%cd /content/drive/MyDrive/Developer/trading/cnn_rl/src\n",
        "\n",
        "%pip install pyts"
      ]
    },
    {
      "cell_type": "code",
      "execution_count": null,
      "metadata": {
        "colab": {
          "base_uri": "https://localhost:8080/"
        },
        "id": "X0XOrLfOYiop",
        "outputId": "6a1c2509-ddeb-4a19-d1d2-6720cd38ba28"
      },
      "outputs": [
        {
          "name": "stdout",
          "output_type": "stream",
          "text": [
            "Preparing data to train the DQN model...\n",
            "Counter({2: 6279, 0: 1753, 1: 1548})\n",
            "Counter({2: 1438, 0: 444, 1: 378})\n",
            "Counter({2: 1415, 0: 453, 1: 362})\n"
          ]
        },
        {
          "name": "stderr",
          "output_type": "stream",
          "text": [
            "100%|██████████| 599/599 [00:12<00:00, 46.20it/s, batch_loss=0.844849, epoch_loss=0.975089, learning_rate=1e-5] \n"
          ]
        },
        {
          "name": "stdout",
          "output_type": "stream",
          "text": [
            "\n",
            ">>> [2023-08-07 23:12:46.831906 | 1/200 | Early stopping counter 0] \n",
            "    loss          - train: 0.865086 valid: 0.886806 \n",
            "    f1-score      - train: 0.519003 valid: 0.494849 \n",
            "    learning rate        : 1.00000e-05\n",
            "\n"
          ]
        },
        {
          "name": "stderr",
          "output_type": "stream",
          "text": [
            "100%|██████████| 599/599 [00:05<00:00, 107.68it/s, batch_loss=0.865946, epoch_loss=0.839572, learning_rate=1e-5]\n"
          ]
        },
        {
          "name": "stdout",
          "output_type": "stream",
          "text": [
            "\n",
            ">>> [2023-08-07 23:12:53.778129 | 2/200 | Early stopping counter 1] \n",
            "    loss          - train: 0.798866 valid: 0.811272 \n",
            "    f1-score      - train: 0.519003 valid: 0.494849 \n",
            "    learning rate        : 1.00000e-05\n",
            "\n"
          ]
        },
        {
          "name": "stderr",
          "output_type": "stream",
          "text": [
            "100%|██████████| 599/599 [00:04<00:00, 124.61it/s, batch_loss=0.745605, epoch_loss=0.749424, learning_rate=1e-5]\n"
          ]
        },
        {
          "name": "stdout",
          "output_type": "stream",
          "text": [
            ">>> [2023-08-07 23:12:59.960076] - Checkpoint and predictions saved\n",
            "\n",
            ">>> [2023-08-07 23:12:59.961369 | 3/200 | Early stopping counter 0] \n",
            "    loss          - train: 0.709688 valid: 0.704673 \n",
            "    f1-score      - train: 0.613087 valid: 0.600596 \n",
            "    learning rate        : 1.00000e-05\n",
            "\n"
          ]
        },
        {
          "name": "stderr",
          "output_type": "stream",
          "text": [
            "100%|██████████| 599/599 [00:04<00:00, 122.59it/s, batch_loss=0.668101, epoch_loss=0.677662, learning_rate=1e-5]\n"
          ]
        },
        {
          "name": "stdout",
          "output_type": "stream",
          "text": [
            ">>> [2023-08-07 23:13:05.888964] - Checkpoint and predictions saved\n",
            "\n",
            ">>> [2023-08-07 23:13:05.890203 | 4/200 | Early stopping counter 0] \n",
            "    loss          - train: 0.650057 valid: 0.639705 \n",
            "    f1-score      - train: 0.640713 valid: 0.630040 \n",
            "    learning rate        : 1.00000e-05\n",
            "\n"
          ]
        },
        {
          "name": "stderr",
          "output_type": "stream",
          "text": [
            "100%|██████████| 599/599 [00:04<00:00, 132.61it/s, batch_loss=0.605245, epoch_loss=0.630526, learning_rate=1e-5]\n"
          ]
        },
        {
          "name": "stdout",
          "output_type": "stream",
          "text": [
            ">>> [2023-08-07 23:13:11.439030] - Checkpoint and predictions saved\n",
            "\n",
            ">>> [2023-08-07 23:13:11.440222 | 5/200 | Early stopping counter 0] \n",
            "    loss          - train: 0.612131 valid: 0.602094 \n",
            "    f1-score      - train: 0.669421 valid: 0.663762 \n",
            "    learning rate        : 1.00000e-05\n",
            "\n"
          ]
        },
        {
          "name": "stderr",
          "output_type": "stream",
          "text": [
            "100%|██████████| 599/599 [00:05<00:00, 115.97it/s, batch_loss=0.531342, epoch_loss=0.597512, learning_rate=1e-5]\n"
          ]
        },
        {
          "name": "stdout",
          "output_type": "stream",
          "text": [
            ">>> [2023-08-07 23:13:17.830253] - Checkpoint and predictions saved\n",
            "\n",
            ">>> [2023-08-07 23:13:17.832135 | 6/200 | Early stopping counter 0] \n",
            "    loss          - train: 0.584676 valid: 0.571299 \n",
            "    f1-score      - train: 0.711770 valid: 0.733501 \n",
            "    learning rate        : 1.00000e-05\n",
            "\n"
          ]
        },
        {
          "name": "stderr",
          "output_type": "stream",
          "text": [
            "100%|██████████| 599/599 [00:04<00:00, 133.98it/s, batch_loss=0.552500, epoch_loss=0.574375, learning_rate=1e-5]\n"
          ]
        },
        {
          "name": "stdout",
          "output_type": "stream",
          "text": [
            ">>> [2023-08-07 23:13:23.376200] - Checkpoint and predictions saved\n",
            "\n",
            ">>> [2023-08-07 23:13:23.378198 | 7/200 | Early stopping counter 0] \n",
            "    loss          - train: 0.562190 valid: 0.546352 \n",
            "    f1-score      - train: 0.738848 valid: 0.766272 \n",
            "    learning rate        : 1.00000e-05\n",
            "\n"
          ]
        },
        {
          "name": "stderr",
          "output_type": "stream",
          "text": [
            "100%|██████████| 599/599 [00:04<00:00, 129.93it/s, batch_loss=0.331197, epoch_loss=0.555696, learning_rate=1e-5]\n"
          ]
        },
        {
          "name": "stdout",
          "output_type": "stream",
          "text": [
            ">>> [2023-08-07 23:13:29.342125] - Checkpoint and predictions saved\n",
            "\n",
            ">>> [2023-08-07 23:13:29.343954 | 8/200 | Early stopping counter 0] \n",
            "    loss          - train: 0.546675 valid: 0.530462 \n",
            "    f1-score      - train: 0.751839 valid: 0.772835 \n",
            "    learning rate        : 1.00000e-05\n",
            "\n"
          ]
        },
        {
          "name": "stderr",
          "output_type": "stream",
          "text": [
            "100%|██████████| 599/599 [00:05<00:00, 119.78it/s, batch_loss=0.357412, epoch_loss=0.542081, learning_rate=1e-5]\n"
          ]
        },
        {
          "name": "stdout",
          "output_type": "stream",
          "text": [
            "\n",
            ">>> [2023-08-07 23:13:35.388113 | 9/200 | Early stopping counter 1] \n",
            "    loss          - train: 0.536464 valid: 0.521959 \n",
            "    f1-score      - train: 0.753271 valid: 0.770959 \n",
            "    learning rate        : 1.00000e-05\n",
            "\n"
          ]
        },
        {
          "name": "stderr",
          "output_type": "stream",
          "text": [
            "100%|██████████| 599/599 [00:04<00:00, 130.30it/s, batch_loss=0.538422, epoch_loss=0.530709, learning_rate=1e-5]\n"
          ]
        },
        {
          "name": "stdout",
          "output_type": "stream",
          "text": [
            ">>> [2023-08-07 23:13:41.026299] - Checkpoint and predictions saved\n",
            "\n",
            ">>> [2023-08-07 23:13:41.027127 | 10/200 | Early stopping counter 0] \n",
            "    loss          - train: 0.529131 valid: 0.514309 \n",
            "    f1-score      - train: 0.766240 valid: 0.777018 \n",
            "    learning rate        : 1.00000e-05\n",
            "\n"
          ]
        },
        {
          "name": "stderr",
          "output_type": "stream",
          "text": [
            "100%|██████████| 599/599 [00:05<00:00, 114.95it/s, batch_loss=0.841888, epoch_loss=0.522923, learning_rate=1e-5]\n"
          ]
        },
        {
          "name": "stdout",
          "output_type": "stream",
          "text": [
            ">>> [2023-08-07 23:13:47.613941] - Checkpoint and predictions saved\n",
            "\n",
            ">>> [2023-08-07 23:13:47.615203 | 11/200 | Early stopping counter 0] \n",
            "    loss          - train: 0.516978 valid: 0.500717 \n",
            "    f1-score      - train: 0.767312 valid: 0.784706 \n",
            "    learning rate        : 1.00000e-05\n",
            "\n"
          ]
        },
        {
          "name": "stderr",
          "output_type": "stream",
          "text": [
            "100%|██████████| 599/599 [00:04<00:00, 131.80it/s, batch_loss=0.263713, epoch_loss=0.514734, learning_rate=1e-5]\n"
          ]
        },
        {
          "name": "stdout",
          "output_type": "stream",
          "text": [
            ">>> [2023-08-07 23:13:53.224374] - Checkpoint and predictions saved\n",
            "\n",
            ">>> [2023-08-07 23:13:53.226078 | 12/200 | Early stopping counter 0] \n",
            "    loss          - train: 0.510096 valid: 0.491256 \n",
            "    f1-score      - train: 0.781219 valid: 0.798681 \n",
            "    learning rate        : 1.00000e-05\n",
            "\n"
          ]
        },
        {
          "name": "stderr",
          "output_type": "stream",
          "text": [
            "100%|██████████| 599/599 [00:04<00:00, 129.25it/s, batch_loss=0.429764, epoch_loss=0.508708, learning_rate=1e-5]\n"
          ]
        },
        {
          "name": "stdout",
          "output_type": "stream",
          "text": [
            "\n",
            ">>> [2023-08-07 23:13:59.239078 | 13/200 | Early stopping counter 1] \n",
            "    loss          - train: 0.505824 valid: 0.489066 \n",
            "    f1-score      - train: 0.782848 valid: 0.798673 \n",
            "    learning rate        : 1.00000e-05\n",
            "\n"
          ]
        },
        {
          "name": "stderr",
          "output_type": "stream",
          "text": [
            "100%|██████████| 599/599 [00:05<00:00, 118.46it/s, batch_loss=0.417699, epoch_loss=0.503722, learning_rate=1e-5]\n"
          ]
        },
        {
          "name": "stdout",
          "output_type": "stream",
          "text": [
            "\n",
            ">>> [2023-08-07 23:14:05.315474 | 14/200 | Early stopping counter 2] \n",
            "    loss          - train: 0.500310 valid: 0.483914 \n",
            "    f1-score      - train: 0.785169 valid: 0.797141 \n",
            "    learning rate        : 1.00000e-05\n",
            "\n"
          ]
        },
        {
          "name": "stderr",
          "output_type": "stream",
          "text": [
            "100%|██████████| 599/599 [00:04<00:00, 129.94it/s, batch_loss=0.550700, epoch_loss=0.500215, learning_rate=1e-5]\n"
          ]
        },
        {
          "name": "stdout",
          "output_type": "stream",
          "text": [
            ">>> [2023-08-07 23:14:10.949010] - Checkpoint and predictions saved\n",
            "\n",
            ">>> [2023-08-07 23:14:10.949981 | 15/200 | Early stopping counter 0] \n",
            "    loss          - train: 0.497441 valid: 0.480483 \n",
            "    f1-score      - train: 0.790652 valid: 0.802563 \n",
            "    learning rate        : 1.00000e-05\n",
            "\n"
          ]
        },
        {
          "name": "stderr",
          "output_type": "stream",
          "text": [
            "100%|██████████| 599/599 [00:04<00:00, 120.93it/s, batch_loss=0.256592, epoch_loss=0.496242, learning_rate=1e-5]\n"
          ]
        },
        {
          "name": "stdout",
          "output_type": "stream",
          "text": [
            ">>> [2023-08-07 23:14:17.292448] - Checkpoint and predictions saved\n",
            "\n",
            ">>> [2023-08-07 23:14:17.293808 | 16/200 | Early stopping counter 0] \n",
            "    loss          - train: 0.493288 valid: 0.475237 \n",
            "    f1-score      - train: 0.794669 valid: 0.806441 \n",
            "    learning rate        : 1.00000e-05\n",
            "\n"
          ]
        },
        {
          "name": "stderr",
          "output_type": "stream",
          "text": [
            "100%|██████████| 599/599 [00:04<00:00, 130.16it/s, batch_loss=0.487696, epoch_loss=0.493444, learning_rate=1e-5]\n"
          ]
        },
        {
          "name": "stdout",
          "output_type": "stream",
          "text": [
            "\n",
            ">>> [2023-08-07 23:14:22.905999 | 17/200 | Early stopping counter 1] \n",
            "    loss          - train: 0.490658 valid: 0.473500 \n",
            "    f1-score      - train: 0.795461 valid: 0.806304 \n",
            "    learning rate        : 1.00000e-05\n",
            "\n"
          ]
        },
        {
          "name": "stderr",
          "output_type": "stream",
          "text": [
            "100%|██████████| 599/599 [00:04<00:00, 132.94it/s, batch_loss=0.790019, epoch_loss=0.490782, learning_rate=1e-5]\n"
          ]
        },
        {
          "name": "stdout",
          "output_type": "stream",
          "text": [
            ">>> [2023-08-07 23:14:28.712321] - Checkpoint and predictions saved\n",
            "\n",
            ">>> [2023-08-07 23:14:28.715055 | 18/200 | Early stopping counter 0] \n",
            "    loss          - train: 0.488039 valid: 0.471856 \n",
            "    f1-score      - train: 0.790268 valid: 0.809230 \n",
            "    learning rate        : 1.00000e-05\n",
            "\n"
          ]
        },
        {
          "name": "stderr",
          "output_type": "stream",
          "text": [
            "100%|██████████| 599/599 [00:05<00:00, 116.61it/s, batch_loss=0.560740, epoch_loss=0.488117, learning_rate=1e-5]\n"
          ]
        },
        {
          "name": "stdout",
          "output_type": "stream",
          "text": [
            "\n",
            ">>> [2023-08-07 23:14:34.833727 | 19/200 | Early stopping counter 1] \n",
            "    loss          - train: 0.485291 valid: 0.470254 \n",
            "    f1-score      - train: 0.797473 valid: 0.804509 \n",
            "    learning rate        : 1.00000e-05\n",
            "\n"
          ]
        },
        {
          "name": "stderr",
          "output_type": "stream",
          "text": [
            "100%|██████████| 599/599 [00:04<00:00, 136.09it/s, batch_loss=0.316976, epoch_loss=0.484910, learning_rate=1e-5]\n"
          ]
        },
        {
          "name": "stdout",
          "output_type": "stream",
          "text": [
            "\n",
            ">>> [2023-08-07 23:14:40.283602 | 20/200 | Early stopping counter 2] \n",
            "    loss          - train: 0.482996 valid: 0.469645 \n",
            "    f1-score      - train: 0.795571 valid: 0.802904 \n",
            "    learning rate        : 1.00000e-05\n",
            "\n"
          ]
        },
        {
          "name": "stderr",
          "output_type": "stream",
          "text": [
            "100%|██████████| 599/599 [00:04<00:00, 123.32it/s, batch_loss=0.414286, epoch_loss=0.483838, learning_rate=1e-5]\n"
          ]
        },
        {
          "name": "stdout",
          "output_type": "stream",
          "text": [
            "\n",
            ">>> [2023-08-07 23:14:46.496543 | 21/200 | Early stopping counter 3] \n",
            "    loss          - train: 0.480096 valid: 0.465883 \n",
            "    f1-score      - train: 0.798047 valid: 0.806186 \n",
            "    learning rate        : 1.00000e-05\n",
            "\n"
          ]
        },
        {
          "name": "stderr",
          "output_type": "stream",
          "text": [
            "100%|██████████| 599/599 [00:04<00:00, 126.80it/s, batch_loss=1.042155, epoch_loss=0.482256, learning_rate=1e-5]\n"
          ]
        },
        {
          "name": "stdout",
          "output_type": "stream",
          "text": [
            "\n",
            ">>> [2023-08-07 23:14:52.222073 | 22/200 | Early stopping counter 4] \n",
            "    loss          - train: 0.478774 valid: 0.465400 \n",
            "    f1-score      - train: 0.797536 valid: 0.807328 \n",
            "    learning rate        : 1.00000e-05\n",
            "\n"
          ]
        },
        {
          "name": "stderr",
          "output_type": "stream",
          "text": [
            "100%|██████████| 599/599 [00:04<00:00, 130.80it/s, batch_loss=0.488118, epoch_loss=0.479686, learning_rate=1e-5]\n"
          ]
        },
        {
          "name": "stdout",
          "output_type": "stream",
          "text": [
            ">>> [2023-08-07 23:14:57.822398] - Checkpoint and predictions saved\n",
            "\n",
            ">>> [2023-08-07 23:14:57.823501 | 23/200 | Early stopping counter 0] \n",
            "    loss          - train: 0.477140 valid: 0.463456 \n",
            "    f1-score      - train: 0.799307 valid: 0.809706 \n",
            "    learning rate        : 1.00000e-05\n",
            "\n"
          ]
        },
        {
          "name": "stderr",
          "output_type": "stream",
          "text": [
            "100%|██████████| 599/599 [00:05<00:00, 114.20it/s, batch_loss=0.374763, epoch_loss=0.478821, learning_rate=1e-5]\n"
          ]
        },
        {
          "name": "stdout",
          "output_type": "stream",
          "text": [
            "\n",
            ">>> [2023-08-07 23:15:04.177984 | 24/200 | Early stopping counter 1] \n",
            "    loss          - train: 0.476043 valid: 0.463367 \n",
            "    f1-score      - train: 0.798788 valid: 0.807413 \n",
            "    learning rate        : 1.00000e-05\n",
            "\n"
          ]
        },
        {
          "name": "stderr",
          "output_type": "stream",
          "text": [
            "100%|██████████| 599/599 [00:04<00:00, 132.10it/s, batch_loss=0.473923, epoch_loss=0.476896, learning_rate=1e-5]\n"
          ]
        },
        {
          "name": "stdout",
          "output_type": "stream",
          "text": [
            "\n",
            ">>> [2023-08-07 23:15:09.739256 | 25/200 | Early stopping counter 2] \n",
            "    loss          - train: 0.477744 valid: 0.465046 \n",
            "    f1-score      - train: 0.794537 valid: 0.807482 \n",
            "    learning rate        : 1.00000e-05\n",
            "\n"
          ]
        },
        {
          "name": "stderr",
          "output_type": "stream",
          "text": [
            "100%|██████████| 599/599 [00:04<00:00, 127.60it/s, batch_loss=0.188204, epoch_loss=0.475780, learning_rate=1e-5]\n"
          ]
        },
        {
          "name": "stdout",
          "output_type": "stream",
          "text": [
            "\n",
            ">>> [2023-08-07 23:15:15.785123 | 26/200 | Early stopping counter 3] \n",
            "    loss          - train: 0.476345 valid: 0.464828 \n",
            "    f1-score      - train: 0.801125 valid: 0.801857 \n",
            "    learning rate        : 1.00000e-05\n",
            "\n"
          ]
        },
        {
          "name": "stderr",
          "output_type": "stream",
          "text": [
            "100%|██████████| 599/599 [00:05<00:00, 114.00it/s, batch_loss=0.286825, epoch_loss=0.474737, learning_rate=1e-5]\n"
          ]
        },
        {
          "name": "stdout",
          "output_type": "stream",
          "text": [
            "\n",
            ">>> [2023-08-07 23:15:22.394624 | 27/200 | Early stopping counter 4] \n",
            "    loss          - train: 0.472222 valid: 0.459510 \n",
            "    f1-score      - train: 0.803679 valid: 0.809249 \n",
            "    learning rate        : 1.00000e-05\n",
            "\n"
          ]
        },
        {
          "name": "stderr",
          "output_type": "stream",
          "text": [
            "100%|██████████| 599/599 [00:04<00:00, 125.34it/s, batch_loss=0.525564, epoch_loss=0.473469, learning_rate=1e-5]\n"
          ]
        },
        {
          "name": "stdout",
          "output_type": "stream",
          "text": [
            "\n",
            ">>> [2023-08-07 23:15:28.180208 | 28/200 | Early stopping counter 5] \n",
            "    loss          - train: 0.471368 valid: 0.460192 \n",
            "    f1-score      - train: 0.801137 valid: 0.807223 \n",
            "    learning rate        : 5.00000e-06\n",
            "\n"
          ]
        },
        {
          "name": "stderr",
          "output_type": "stream",
          "text": [
            "100%|██████████| 599/599 [00:05<00:00, 118.28it/s, batch_loss=0.467590, epoch_loss=0.471264, learning_rate=5e-6]\n"
          ]
        },
        {
          "name": "stdout",
          "output_type": "stream",
          "text": [
            ">>> [2023-08-07 23:15:34.619887] - Checkpoint and predictions saved\n",
            "\n",
            ">>> [2023-08-07 23:15:34.621758 | 29/200 | Early stopping counter 0] \n",
            "    loss          - train: 0.470347 valid: 0.457718 \n",
            "    f1-score      - train: 0.804550 valid: 0.810648 \n",
            "    learning rate        : 5.00000e-06\n",
            "\n"
          ]
        },
        {
          "name": "stderr",
          "output_type": "stream",
          "text": [
            "100%|██████████| 599/599 [00:04<00:00, 131.13it/s, batch_loss=0.435318, epoch_loss=0.471077, learning_rate=5e-6]\n"
          ]
        },
        {
          "name": "stdout",
          "output_type": "stream",
          "text": [
            "\n",
            ">>> [2023-08-07 23:15:40.207005 | 30/200 | Early stopping counter 1] \n",
            "    loss          - train: 0.470075 valid: 0.458175 \n",
            "    f1-score      - train: 0.804830 valid: 0.809525 \n",
            "    learning rate        : 5.00000e-06\n",
            "\n"
          ]
        },
        {
          "name": "stderr",
          "output_type": "stream",
          "text": [
            "100%|██████████| 599/599 [00:04<00:00, 128.25it/s, batch_loss=0.959676, epoch_loss=0.470960, learning_rate=5e-6]\n"
          ]
        },
        {
          "name": "stdout",
          "output_type": "stream",
          "text": [
            ">>> [2023-08-07 23:15:46.237259] - Checkpoint and predictions saved\n",
            "\n",
            ">>> [2023-08-07 23:15:46.238598 | 31/200 | Early stopping counter 0] \n",
            "    loss          - train: 0.469198 valid: 0.456940 \n",
            "    f1-score      - train: 0.805129 valid: 0.811615 \n",
            "    learning rate        : 5.00000e-06\n",
            "\n"
          ]
        },
        {
          "name": "stderr",
          "output_type": "stream",
          "text": [
            "100%|██████████| 599/599 [00:04<00:00, 121.84it/s, batch_loss=0.534627, epoch_loss=0.470355, learning_rate=5e-6]\n"
          ]
        },
        {
          "name": "stdout",
          "output_type": "stream",
          "text": [
            "\n",
            ">>> [2023-08-07 23:15:52.154176 | 32/200 | Early stopping counter 1] \n",
            "    loss          - train: 0.469379 valid: 0.458353 \n",
            "    f1-score      - train: 0.801379 valid: 0.808778 \n",
            "    learning rate        : 5.00000e-06\n",
            "\n"
          ]
        },
        {
          "name": "stderr",
          "output_type": "stream",
          "text": [
            "100%|██████████| 599/599 [00:04<00:00, 129.46it/s, batch_loss=0.394396, epoch_loss=0.469539, learning_rate=5e-6]\n"
          ]
        },
        {
          "name": "stdout",
          "output_type": "stream",
          "text": [
            "\n",
            ">>> [2023-08-07 23:15:57.803578 | 33/200 | Early stopping counter 2] \n",
            "    loss          - train: 0.468469 valid: 0.456597 \n",
            "    f1-score      - train: 0.805520 valid: 0.809032 \n",
            "    learning rate        : 5.00000e-06\n",
            "\n"
          ]
        },
        {
          "name": "stderr",
          "output_type": "stream",
          "text": [
            "100%|██████████| 599/599 [00:04<00:00, 121.25it/s, batch_loss=0.792224, epoch_loss=0.469157, learning_rate=5e-6]\n"
          ]
        },
        {
          "name": "stdout",
          "output_type": "stream",
          "text": [
            ">>> [2023-08-07 23:16:04.100884] - Checkpoint and predictions saved\n",
            "\n",
            ">>> [2023-08-07 23:16:04.102220 | 34/200 | Early stopping counter 0] \n",
            "    loss          - train: 0.468771 valid: 0.456065 \n",
            "    f1-score      - train: 0.803505 valid: 0.812680 \n",
            "    learning rate        : 5.00000e-06\n",
            "\n"
          ]
        },
        {
          "name": "stderr",
          "output_type": "stream",
          "text": [
            "100%|██████████| 599/599 [00:04<00:00, 125.66it/s, batch_loss=0.407705, epoch_loss=0.468587, learning_rate=5e-6]\n"
          ]
        },
        {
          "name": "stdout",
          "output_type": "stream",
          "text": [
            "\n",
            ">>> [2023-08-07 23:16:09.896349 | 35/200 | Early stopping counter 1] \n",
            "    loss          - train: 0.467362 valid: 0.455266 \n",
            "    f1-score      - train: 0.806467 valid: 0.812259 \n",
            "    learning rate        : 5.00000e-06\n",
            "\n"
          ]
        },
        {
          "name": "stderr",
          "output_type": "stream",
          "text": [
            "100%|██████████| 599/599 [00:04<00:00, 128.20it/s, batch_loss=0.655286, epoch_loss=0.467582, learning_rate=5e-6]\n"
          ]
        },
        {
          "name": "stdout",
          "output_type": "stream",
          "text": [
            "\n",
            ">>> [2023-08-07 23:16:15.710907 | 36/200 | Early stopping counter 2] \n",
            "    loss          - train: 0.466655 valid: 0.455532 \n",
            "    f1-score      - train: 0.804539 valid: 0.811476 \n",
            "    learning rate        : 5.00000e-06\n",
            "\n"
          ]
        },
        {
          "name": "stderr",
          "output_type": "stream",
          "text": [
            "100%|██████████| 599/599 [00:05<00:00, 114.61it/s, batch_loss=0.383891, epoch_loss=0.467531, learning_rate=5e-6]\n"
          ]
        },
        {
          "name": "stdout",
          "output_type": "stream",
          "text": [
            "\n",
            ">>> [2023-08-07 23:16:22.010013 | 37/200 | Early stopping counter 3] \n",
            "    loss          - train: 0.466875 valid: 0.456478 \n",
            "    f1-score      - train: 0.802428 valid: 0.809053 \n",
            "    learning rate        : 5.00000e-06\n",
            "\n"
          ]
        },
        {
          "name": "stderr",
          "output_type": "stream",
          "text": [
            "100%|██████████| 599/599 [00:04<00:00, 125.58it/s, batch_loss=0.369761, epoch_loss=0.467131, learning_rate=5e-6]\n"
          ]
        },
        {
          "name": "stdout",
          "output_type": "stream",
          "text": [
            "\n",
            ">>> [2023-08-07 23:16:27.790737 | 38/200 | Early stopping counter 4] \n",
            "    loss          - train: 0.466044 valid: 0.454246 \n",
            "    f1-score      - train: 0.806946 valid: 0.811530 \n",
            "    learning rate        : 5.00000e-06\n",
            "\n"
          ]
        },
        {
          "name": "stderr",
          "output_type": "stream",
          "text": [
            "100%|██████████| 599/599 [00:04<00:00, 121.77it/s, batch_loss=0.441060, epoch_loss=0.466753, learning_rate=5e-6]\n"
          ]
        },
        {
          "name": "stdout",
          "output_type": "stream",
          "text": [
            "\n",
            ">>> [2023-08-07 23:16:34.050987 | 39/200 | Early stopping counter 5] \n",
            "    loss          - train: 0.466688 valid: 0.455663 \n",
            "    f1-score      - train: 0.802206 valid: 0.811946 \n",
            "    learning rate        : 2.50000e-06\n",
            "\n"
          ]
        },
        {
          "name": "stderr",
          "output_type": "stream",
          "text": [
            "100%|██████████| 599/599 [00:04<00:00, 120.44it/s, batch_loss=0.372721, epoch_loss=0.465808, learning_rate=2.5e-6]\n"
          ]
        },
        {
          "name": "stdout",
          "output_type": "stream",
          "text": [
            "\n",
            ">>> [2023-08-07 23:16:40.031011 | 40/200 | Early stopping counter 6] \n",
            "    loss          - train: 0.465428 valid: 0.454389 \n",
            "    f1-score      - train: 0.804821 valid: 0.810965 \n",
            "    learning rate        : 2.50000e-06\n",
            "\n"
          ]
        },
        {
          "name": "stderr",
          "output_type": "stream",
          "text": [
            "100%|██████████| 599/599 [00:04<00:00, 126.00it/s, batch_loss=0.549794, epoch_loss=0.465907, learning_rate=2.5e-6]\n"
          ]
        },
        {
          "name": "stdout",
          "output_type": "stream",
          "text": [
            "\n",
            ">>> [2023-08-07 23:16:45.799600 | 41/200 | Early stopping counter 7] \n",
            "    loss          - train: 0.465265 valid: 0.454588 \n",
            "    f1-score      - train: 0.804671 valid: 0.811671 \n",
            "    learning rate        : 2.50000e-06\n",
            "\n"
          ]
        },
        {
          "name": "stderr",
          "output_type": "stream",
          "text": [
            "100%|██████████| 599/599 [00:05<00:00, 112.05it/s, batch_loss=0.301674, epoch_loss=0.465467, learning_rate=2.5e-6]\n"
          ]
        },
        {
          "name": "stdout",
          "output_type": "stream",
          "text": [
            "\n",
            ">>> [2023-08-07 23:16:52.363131 | 42/200 | Early stopping counter 8] \n",
            "    loss          - train: 0.465494 valid: 0.455317 \n",
            "    f1-score      - train: 0.804948 valid: 0.808303 \n",
            "    learning rate        : 2.50000e-06\n",
            "\n"
          ]
        },
        {
          "name": "stderr",
          "output_type": "stream",
          "text": [
            "100%|██████████| 599/599 [00:04<00:00, 127.63it/s, batch_loss=0.900622, epoch_loss=0.465753, learning_rate=2.5e-6]\n"
          ]
        },
        {
          "name": "stdout",
          "output_type": "stream",
          "text": [
            "\n",
            ">>> [2023-08-07 23:16:58.069791 | 43/200 | Early stopping counter 9] \n",
            "    loss          - train: 0.464628 valid: 0.453672 \n",
            "    f1-score      - train: 0.806758 valid: 0.811773 \n",
            "    learning rate        : 2.50000e-06\n",
            "\n"
          ]
        },
        {
          "name": "stderr",
          "output_type": "stream",
          "text": [
            "100%|██████████| 599/599 [00:04<00:00, 123.36it/s, batch_loss=0.407705, epoch_loss=0.465163, learning_rate=2.5e-6]\n"
          ]
        },
        {
          "name": "stdout",
          "output_type": "stream",
          "text": [
            "\n",
            ">>> [2023-08-07 23:17:04.288383 | 44/200 | Early stopping counter 10] \n",
            "    loss          - train: 0.465188 valid: 0.454919 \n",
            "    f1-score      - train: 0.803422 valid: 0.810351 \n",
            "    learning rate        : 1.25000e-06\n",
            "\n"
          ]
        },
        {
          "name": "stderr",
          "output_type": "stream",
          "text": [
            "100%|██████████| 599/599 [00:04<00:00, 122.06it/s, batch_loss=0.320679, epoch_loss=0.464565, learning_rate=1.25e-6]\n"
          ]
        },
        {
          "name": "stdout",
          "output_type": "stream",
          "text": [
            "\n",
            ">>> [2023-08-07 23:17:10.208852 | 45/200 | Early stopping counter 11] \n",
            "    loss          - train: 0.464399 valid: 0.454085 \n",
            "    f1-score      - train: 0.806972 valid: 0.809464 \n",
            "    learning rate        : 1.25000e-06\n",
            "\n"
          ]
        },
        {
          "name": "stderr",
          "output_type": "stream",
          "text": [
            "100%|██████████| 599/599 [00:04<00:00, 127.14it/s, batch_loss=0.333453, epoch_loss=0.464470, learning_rate=1.25e-6]\n"
          ]
        },
        {
          "name": "stdout",
          "output_type": "stream",
          "text": [
            "\n",
            ">>> [2023-08-07 23:17:15.924076 | 46/200 | Early stopping counter 12] \n",
            "    loss          - train: 0.465179 valid: 0.455532 \n",
            "    f1-score      - train: 0.805062 valid: 0.808964 \n",
            "    learning rate        : 1.25000e-06\n",
            "\n"
          ]
        },
        {
          "name": "stderr",
          "output_type": "stream",
          "text": [
            "100%|██████████| 599/599 [00:05<00:00, 119.29it/s, batch_loss=0.456814, epoch_loss=0.464892, learning_rate=1.25e-6]\n"
          ]
        },
        {
          "name": "stdout",
          "output_type": "stream",
          "text": [
            "\n",
            ">>> [2023-08-07 23:17:22.321815 | 47/200 | Early stopping counter 13] \n",
            "    loss          - train: 0.464271 valid: 0.453558 \n",
            "    f1-score      - train: 0.806155 valid: 0.810727 \n",
            "    learning rate        : 1.25000e-06\n",
            "\n"
          ]
        },
        {
          "name": "stderr",
          "output_type": "stream",
          "text": [
            "100%|██████████| 599/599 [00:04<00:00, 124.99it/s, batch_loss=0.486430, epoch_loss=0.464340, learning_rate=1.25e-6]\n"
          ]
        },
        {
          "name": "stdout",
          "output_type": "stream",
          "text": [
            "\n",
            ">>> [2023-08-07 23:17:28.111425 | 48/200 | Early stopping counter 14] \n",
            "    loss          - train: 0.464381 valid: 0.453402 \n",
            "    f1-score      - train: 0.806088 valid: 0.810860 \n",
            "    learning rate        : 1.25000e-06\n",
            "\n"
          ]
        },
        {
          "name": "stderr",
          "output_type": "stream",
          "text": [
            "100%|██████████| 599/599 [00:04<00:00, 130.79it/s, batch_loss=0.413076, epoch_loss=0.464449, learning_rate=1.25e-6]\n"
          ]
        },
        {
          "name": "stdout",
          "output_type": "stream",
          "text": [
            "\n",
            ">>> [2023-08-07 23:17:33.892416 | 49/200 | Early stopping counter 15] \n",
            "    loss          - train: 0.463951 valid: 0.453342 \n",
            "    f1-score      - train: 0.807891 valid: 0.811046 \n",
            "    learning rate        : 6.25000e-07\n",
            "\n"
          ]
        },
        {
          "name": "stderr",
          "output_type": "stream",
          "text": [
            "100%|██████████| 599/599 [00:05<00:00, 116.90it/s, batch_loss=0.349365, epoch_loss=0.464028, learning_rate=6.25e-7]\n"
          ]
        },
        {
          "name": "stdout",
          "output_type": "stream",
          "text": [
            "\n",
            ">>> [2023-08-07 23:17:40.133986 | 50/200 | Early stopping counter 16] \n",
            "    loss          - train: 0.463862 valid: 0.453516 \n",
            "    f1-score      - train: 0.805867 valid: 0.811555 \n",
            "    learning rate        : 6.25000e-07\n",
            "\n"
          ]
        },
        {
          "name": "stderr",
          "output_type": "stream",
          "text": [
            "100%|██████████| 599/599 [00:04<00:00, 127.86it/s, batch_loss=0.475426, epoch_loss=0.464024, learning_rate=6.25e-7]\n"
          ]
        },
        {
          "name": "stdout",
          "output_type": "stream",
          "text": [
            "\n",
            ">>> [2023-08-07 23:17:45.836104 | 51/200 | Early stopping counter 17] \n",
            "    loss          - train: 0.463778 valid: 0.453069 \n",
            "    f1-score      - train: 0.808283 valid: 0.811125 \n",
            "    learning rate        : 6.25000e-07\n",
            "\n"
          ]
        },
        {
          "name": "stderr",
          "output_type": "stream",
          "text": [
            "100%|██████████| 599/599 [00:05<00:00, 116.97it/s, batch_loss=0.283323, epoch_loss=0.463866, learning_rate=6.25e-7]\n"
          ]
        },
        {
          "name": "stdout",
          "output_type": "stream",
          "text": [
            "\n",
            ">>> [2023-08-07 23:17:52.568921 | 52/200 | Early stopping counter 18] \n",
            "    loss          - train: 0.463844 valid: 0.453344 \n",
            "    f1-score      - train: 0.807331 valid: 0.810789 \n",
            "    learning rate        : 6.25000e-07\n",
            "\n"
          ]
        },
        {
          "name": "stderr",
          "output_type": "stream",
          "text": [
            "100%|██████████| 599/599 [00:05<00:00, 116.36it/s, batch_loss=0.564583, epoch_loss=0.463976, learning_rate=6.25e-7]\n"
          ]
        },
        {
          "name": "stdout",
          "output_type": "stream",
          "text": [
            "\n",
            ">>> [2023-08-07 23:17:59.120307 | 53/200 | Early stopping counter 19] \n",
            "    loss          - train: 0.463721 valid: 0.453455 \n",
            "    f1-score      - train: 0.805323 valid: 0.811076 \n",
            "    learning rate        : 6.25000e-07\n",
            "\n"
          ]
        },
        {
          "name": "stderr",
          "output_type": "stream",
          "text": [
            "100%|██████████| 599/599 [00:04<00:00, 126.74it/s, batch_loss=0.389720, epoch_loss=0.463891, learning_rate=6.25e-7]\n"
          ]
        },
        {
          "name": "stdout",
          "output_type": "stream",
          "text": [
            "\n",
            ">>> [2023-08-07 23:18:04.847985 | 54/200 | Early stopping counter 20] \n",
            "    loss          - train: 0.463728 valid: 0.453362 \n",
            "    f1-score      - train: 0.807042 valid: 0.811617 \n",
            "    learning rate        : 3.12500e-07\n",
            "\n"
          ]
        }
      ],
      "source": [
        "from helper_config import Config\n",
        "from helper_cnn_trainer import train\n",
        "\n",
        "config = Config()\n",
        "config.data_dir = '../data'\n",
        "config.models_dir = '../models'\n",
        "config.model_name = '2dcnn_stack_gasf_zero_centered_ohlcv_delete'\n",
        "config.train_batch_size = 16\n",
        "config.iters_to_accumlate = 1\n",
        "config.sample_run = False\n",
        "config.learning_rate = 1e-5\n",
        "config.num_epochs = 200\n",
        "config.save_epoch_wait = 1\n",
        "config.early_stop_count = 20\n",
        "config.save_checkpoint = True\n",
        "\n",
        "config.centered_zero = True\n",
        "config.model_arch = '3d'\n",
        "config.train_gasf_image = True\n",
        "\n",
        "config.cols = ['Open', 'High', 'Low', 'Close', 'Volume']\n",
        "\n",
        "results = train(config)"
      ]
    }
  ],
  "metadata": {
    "accelerator": "GPU",
    "colab": {
      "gpuType": "T4",
      "provenance": []
    },
    "kernelspec": {
      "display_name": "Python 3",
      "name": "python3"
    },
    "language_info": {
      "name": "python"
    }
  },
  "nbformat": 4,
  "nbformat_minor": 0
}
